import numpy as np
import pandas as pd
import matplotlib.pyplot as plt
import seaborn as sns
from sklearn.datasets import load_iris

%matplotlib inline

# 2. Load sample dataset (Iris)
iris = load_iris(as_frame=True)
data = iris.frame

# 3. Basic info
print("Shape of dataset:", data.shape)
print("\nFirst 5 rows:\n", data.head())
print("\nInfo:")
print(data.info())
print("\nStatistics:\n", data.describe())

# 4. Missing values
print("\nMissing values per column:")
print(data.isnull().sum())

# 5. Numeric distributions
numeric_cols = data.select_dtypes(include=np.number).columns
for col in numeric_cols:
    plt.figure(figsize=(6,4))
    sns.histplot(data[col], kde=True)
    plt.title(f"Distribution of {col}")
    plt.show()

# 6. Categorical distributions
categorical_cols = data.select_dtypes(include="object").columns
for col in categorical_cols:
    plt.figure(figsize=(6,4))
    sns.countplot(x=data[col])
    plt.title(f"Count of {col}")
    plt.xticks(rotation=45)
    plt.show()

# 7. Correlation heatmap
plt.figure(figsize=(10,6))
sns.heatmap(data.corr(), annot=True, cmap="coolwarm")
plt.title("Correlation Heatmap")
plt.show()
